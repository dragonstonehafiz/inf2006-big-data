{
 "cells": [
  {
   "cell_type": "code",
   "execution_count": null,
   "metadata": {},
   "outputs": [],
   "source": [
    "import pandas as pd\n",
    "from tqdm import tqdm\n",
    "import matplotlib.pyplot as plt\n",
    "import json\n",
    "import re\n",
    "import html\n",
    "from wordcloud import WordCloud, STOPWORDS\n",
    "import matplotlib.pyplot as plt"
   ]
  },
  {
   "cell_type": "markdown",
   "metadata": {},
   "source": [
    "## FILE PATHS"
   ]
  },
  {
   "cell_type": "code",
   "execution_count": null,
   "metadata": {},
   "outputs": [],
   "source": [
    "partfilename = \"part-r-00000\"\n",
    "metadata_filename = \"data/meta_Video_Games.jsonl\"\n",
    "data_filename = \"data/Video_Games_with_sentiment.jsonl\""
   ]
  },
  {
   "cell_type": "markdown",
   "metadata": {},
   "source": [
    "## LOAD DATA"
   ]
  },
  {
   "cell_type": "code",
   "execution_count": null,
   "metadata": {},
   "outputs": [],
   "source": [
    "data = []\n",
    "\n",
    "with open(partfilename) as file:\n",
    "    lines = file.readlines()\n",
    "    for line in tqdm(lines):\n",
    "        line = line.strip()\n",
    "        keys, count = line.split(\"\\t\")\n",
    "        year, month, sentiment, rating, asid = keys.split(\"-\")\n",
    "\n",
    "        # Add to list as a dictionary\n",
    "        data.append({\n",
    "            \"year\": year,\n",
    "            \"month\": month,\n",
    "            \"sentiment\": sentiment,\n",
    "            \"rating\": rating,\n",
    "            \"asid\": asid,\n",
    "            \"count\": int(count)\n",
    "        })"
   ]
  },
  {
   "cell_type": "code",
   "execution_count": null,
   "metadata": {},
   "outputs": [],
   "source": [
    "# Create DataFrame from the list of dicts\n",
    "df = pd.DataFrame(data)\n",
    "df['year'] = df['year'].astype(int)\n",
    "# Filter out years before 2010\n",
    "# df = df[df['year'] >= 2010]\n",
    "df.head()"
   ]
  },
  {
   "cell_type": "code",
   "execution_count": null,
   "metadata": {},
   "outputs": [],
   "source": [
    "# Step 1: Load product metadata JSONL\n",
    "with open(metadata_filename, \"r\") as f:\n",
    "    metadata = [json.loads(line) for line in f]\n",
    "\n",
    "# Step 2: Create mapping: parent_asin → title\n",
    "title_map = {item[\"parent_asin\"]: item[\"title\"] for item in metadata}\n",
    "\n",
    "# Step 3: Map titles to review DataFrame based on 'asid'\n",
    "df[\"title\"] = df[\"asid\"].map(title_map)\n",
    "\n",
    "# ✅ Optional: See the result\n",
    "df[[\"asid\", \"title\"]].head()\n",
    "\n",
    "# Step 4: Remove rows with missing data\n",
    "# df = df.dropna()"
   ]
  },
  {
   "cell_type": "code",
   "execution_count": null,
   "metadata": {},
   "outputs": [],
   "source": [
    "top_products = (\n",
    "    df.groupby(\"title\")[\"count\"].sum().sort_values(ascending=False).head(5)\n",
    ")\n",
    "\n",
    "print(top_products)"
   ]
  },
  {
   "cell_type": "markdown",
   "metadata": {},
   "source": [
    "### WORD CLOUD"
   ]
  },
  {
   "cell_type": "code",
   "execution_count": null,
   "metadata": {},
   "outputs": [],
   "source": [
    "# Load JSONL data\n",
    "file =  open(data_filename, \"r\", encoding=\"utf-8\")\n",
    "lines = file.readlines()"
   ]
  },
  {
   "cell_type": "code",
   "execution_count": null,
   "metadata": {},
   "outputs": [],
   "source": [
    "def get_review_text(lines):\n",
    "    texts = []\n",
    "    for line in tqdm(lines):\n",
    "        try:\n",
    "            review = json.loads(line)\n",
    "            # Skip ratings\n",
    "            if review[\"rating\"] >= 3:\n",
    "                continue\n",
    "            raw_text = review[\"text\"]\n",
    "            clean_text = html.unescape(raw_text)\n",
    "            clean_text = re.sub(r\"<.*?>\", \" \", clean_text)\n",
    "            clean_text = re.sub(r\"[^a-zA-Z0-9\\s']\", \" \", clean_text).lower()\n",
    "            tokens = clean_text.split()\n",
    "            tokens = [word for word in tokens if len(word) > 1 or word in (\"i\", \"a\")]\n",
    "            texts.append(\" \".join(tokens))\n",
    "        except:\n",
    "            continue  # skip malformed lines\n",
    "\n",
    "    # Combine all review texts into one string\n",
    "    all_text = \" \".join(texts) \n",
    "    return all_text"
   ]
  },
  {
   "cell_type": "code",
   "execution_count": null,
   "metadata": {},
   "outputs": [],
   "source": [
    "def get_title_text(lines):\n",
    "    texts = []\n",
    "    for line in tqdm(lines):\n",
    "        try:\n",
    "            review = json.loads(line)\n",
    "            # Skip ratings\n",
    "            if review[\"rating\"] >= 3:\n",
    "                continue\n",
    "            raw_text = review[\"title\"]\n",
    "            clean_text = html.unescape(raw_text)\n",
    "            clean_text = re.sub(r\"<.*?>\", \" \", clean_text)\n",
    "            clean_text = re.sub(r\"[^a-zA-Z0-9\\s']\", \" \", clean_text).lower()\n",
    "            tokens = clean_text.split()\n",
    "            tokens = [word for word in tokens if len(word) > 1 or word in (\"i\", \"a\")]\n",
    "            texts.append(\" \".join(tokens))\n",
    "        except:\n",
    "            continue  # skip malformed lines\n",
    "\n",
    "    # Combine all review texts into one string\n",
    "    all_text = \" \".join(texts) \n",
    "    return all_text"
   ]
  },
  {
   "cell_type": "code",
   "execution_count": null,
   "metadata": {},
   "outputs": [],
   "source": [
    "def create_wordcloud(all_text, title):\n",
    "    # Generate the word cloud\n",
    "    stopwords = set(STOPWORDS)\n",
    "\n",
    "    # Generate the word cloud\n",
    "    wordcloud = WordCloud(\n",
    "        width=1000,\n",
    "        height=600,\n",
    "        background_color=\"white\",\n",
    "        stopwords=stopwords\n",
    "    ).generate(all_text)\n",
    "\n",
    "    # Show the word cloud\n",
    "    plt.figure(figsize=(12, 6))\n",
    "    plt.imshow(wordcloud, interpolation=\"bilinear\")\n",
    "    plt.axis(\"off\")\n",
    "    plt.title(title)\n",
    "    plt.show()\n"
   ]
  },
  {
   "cell_type": "code",
   "execution_count": null,
   "metadata": {},
   "outputs": [],
   "source": [
    "all_text = get_review_text(lines)\n",
    "create_wordcloud(all_text, \"Review Text\")"
   ]
  },
  {
   "cell_type": "code",
   "execution_count": null,
   "metadata": {},
   "outputs": [],
   "source": [
    "all_text = get_title_text(lines)"
   ]
  },
  {
   "cell_type": "code",
   "execution_count": null,
   "metadata": {},
   "outputs": [],
   "source": [
    "create_wordcloud(all_text, \"Title Text\")"
   ]
  },
  {
   "cell_type": "markdown",
   "metadata": {},
   "source": [
    "### RATING PIE CHART"
   ]
  },
  {
   "cell_type": "code",
   "execution_count": null,
   "metadata": {},
   "outputs": [],
   "source": [
    "# 🧼 Filter the DataFrame\n",
    "filtered_df = df\n",
    "\n",
    "# Aggregate count by sentiment\n",
    "# sentiment_counts = df.groupby(\"sentiment\")[\"count\"].sum()\n",
    "sentiment_counts = filtered_df.groupby(\"rating\")[\"count\"].sum()\n",
    "\n",
    "# Plot pie chart\n",
    "plt.figure(figsize=(6, 6))\n",
    "plt.pie(sentiment_counts, labels=sentiment_counts.index, autopct=\"%1.1f%%\", startangle=140)\n",
    "plt.title(\"Rating Distribution\")\n",
    "plt.axis(\"equal\")\n",
    "plt.show()"
   ]
  },
  {
   "cell_type": "markdown",
   "metadata": {},
   "source": [
    "### SENTIMENT PIE CHART"
   ]
  },
  {
   "cell_type": "code",
   "execution_count": null,
   "metadata": {},
   "outputs": [],
   "source": [
    "# 🔍 Choose the ASIN (product ID) to filter\n",
    "# target_asid = \"B00Y2CQRZY\"  # <-- change this to any ASIN you want\n",
    "\n",
    "# 🧼 Filter the DataFrame\n",
    "# filtered_df = df[df[\"asid\"] == target_asid]\n",
    "\n",
    "# Aggregate count by sentiment\n",
    "sentiment_counts = df.groupby(\"sentiment\")[\"count\"].sum()\n",
    "\n",
    "# Plot pie chart\n",
    "plt.figure(figsize=(6, 6))\n",
    "wedges, texts, autotexts = plt.pie(\n",
    "    sentiment_counts,\n",
    "    labels=sentiment_counts.index,\n",
    "    autopct=\"%1.1f%%\",\n",
    "    startangle=140\n",
    ")\n",
    "\n",
    "plt.title(\"Sentiment Distribution\")\n",
    "plt.axis(\"equal\")\n",
    "\n",
    "# ✅ Add legend\n",
    "plt.legend(wedges, sentiment_counts.index, title=\"Sentiment\", loc=\"lower right\")\n",
    "plt.show()"
   ]
  },
  {
   "cell_type": "markdown",
   "metadata": {},
   "source": [
    "### BAR CHART"
   ]
  },
  {
   "cell_type": "code",
   "execution_count": null,
   "metadata": {},
   "outputs": [],
   "source": [
    "import matplotlib.pyplot as plt\n",
    "\n",
    "# Group by title and sum review counts\n",
    "# product_counts = df.groupby(\"title\")[\"count\"].sum()\n",
    "product_counts = df.groupby(\"title\")[\"count\"].sum()\n",
    "# 🔍 Filter out products with fewer than 1000 reviews\n",
    "filtered_counts = product_counts[product_counts >= 1000]\n",
    "\n",
    "# Get Top and Bottom 10 products\n",
    "top_10 = filtered_counts.nlargest(10)\n",
    "bottom_10 = filtered_counts.nsmallest(10)\n",
    "\n",
    "print(\"🔝 Top 10 Products by Review Count:\")\n",
    "print(top_10)\n",
    "print(\"\\n🔻 Bottom 10 Products by Review Count:\")\n",
    "print(bottom_10)\n",
    "\n",
    "# Create subplot with 2 rows and 1 column\n",
    "fig, axes = plt.subplots(2, 1, figsize=(10, 10))\n",
    "\n",
    "# 🔝 Top 10 - Horizontal Bar Chart\n",
    "axes[0].barh(top_10.index[::-1], top_10.values[::-1])  # Reverse for highest at top\n",
    "axes[0].set_title(\"Top 10 Products by Review Count\")\n",
    "axes[0].set_xlabel(\"Review Count\")\n",
    "axes[0].set_ylabel(\"Product Title\")\n",
    "\n",
    "# 🔻 Bottom 10 - Horizontal Bar Chart\n",
    "axes[1].barh(bottom_10.index, bottom_10.values, color=\"orange\")\n",
    "axes[1].set_title(\"Bottom 10 Products by Review Count\")\n",
    "axes[1].set_xlabel(\"Review Count\")\n",
    "axes[1].set_ylabel(\"Product Title\")\n",
    "\n",
    "# Layout and show\n",
    "plt.tight_layout()\n",
    "plt.show()"
   ]
  },
  {
   "cell_type": "markdown",
   "metadata": {},
   "source": [
    "### YEARLY SALES"
   ]
  },
  {
   "cell_type": "code",
   "execution_count": null,
   "metadata": {},
   "outputs": [],
   "source": [
    "df[\"year\"].max()"
   ]
  },
  {
   "cell_type": "code",
   "execution_count": null,
   "metadata": {},
   "outputs": [],
   "source": [
    "# Group by year and sum the review counts\n",
    "yearly_sales = df.groupby(\"year\")[\"count\"].sum()\n",
    "\n",
    "# Sort by year in case it's not already\n",
    "yearly_sales = yearly_sales.sort_index()\n",
    "\n",
    "# Plotting\n",
    "plt.figure(figsize=(12, 6))\n",
    "plt.plot(yearly_sales.index, yearly_sales.values, marker='o', linestyle='-', linewidth=2)\n",
    "\n",
    "# Labels and Title\n",
    "plt.title(\"Change in Review Counts (as Sales Proxy) from 2010 to 2023\")\n",
    "plt.xlabel(\"Year\")\n",
    "plt.ylabel(\"Total Review Count\")\n",
    "plt.grid(True)\n",
    "\n",
    "# Show plot\n",
    "plt.tight_layout()\n",
    "plt.show()\n"
   ]
  },
  {
   "cell_type": "markdown",
   "metadata": {},
   "source": [
    "### RATING TRENDS"
   ]
  },
  {
   "cell_type": "code",
   "execution_count": null,
   "metadata": {},
   "outputs": [],
   "source": [
    "# Group by year and sentiment, then sum the counts\n",
    "sentiment_trends = df.groupby([\"year\", \"rating\"])[\"count\"].sum().unstack()\n",
    "\n",
    "# Sort by year to ensure proper plotting\n",
    "sentiment_trends = sentiment_trends.sort_index()\n",
    "\n",
    "# Plotting\n",
    "plt.figure(figsize=(12, 6))\n",
    "for sentiment in sentiment_trends.columns:\n",
    "    plt.plot(sentiment_trends.index, sentiment_trends[sentiment], marker='o', label=sentiment)\n",
    "\n",
    "# Labels and Title\n",
    "plt.title(\"Rating Trends Over Time\")\n",
    "plt.xlabel(\"Year\")\n",
    "plt.ylabel(\"Review Count\")\n",
    "plt.legend(title=\"Rating\")\n",
    "plt.grid(True)\n",
    "plt.tight_layout()\n",
    "plt.show()"
   ]
  },
  {
   "cell_type": "markdown",
   "metadata": {},
   "source": [
    "### XBOX/SONY/PLAYSTATION"
   ]
  },
  {
   "cell_type": "code",
   "execution_count": null,
   "metadata": {},
   "outputs": [],
   "source": [
    "import json\n",
    "import pandas as pd\n",
    "from tqdm import tqdm\n",
    "from datetime import datetime\n",
    "\n",
    "data = []\n",
    "\n",
    "with open(data_filename, \"r\", encoding=\"utf-8\") as file:\n",
    "    lines = file.readlines()\n",
    "\n",
    "for line in tqdm(lines, desc=\"Processing reviews\"):\n",
    "    review = json.loads(line)\n",
    "\n",
    "    # Extract and process fields\n",
    "    rating = review.get(\"rating\")\n",
    "    title = review.get(\"title\", \"\").lower()\n",
    "    text = review.get(\"text\", \"\").lower()\n",
    "    sentiment = review.get(\"sentiment\")\n",
    "    asin = review.get(\"asin\")\n",
    "    timestamp = review.get(\"timestamp\")\n",
    "\n",
    "    # Convert timestamp to year and month\n",
    "    if timestamp:\n",
    "        dt = datetime.fromtimestamp(timestamp / 1000)\n",
    "        year = dt.year\n",
    "        month = dt.month\n",
    "    else:\n",
    "        year = None\n",
    "        month = None\n",
    "\n",
    "    # Combine title and text for keyword search\n",
    "    combined_text = title + \" \" + text\n",
    "\n",
    "    # Detect mentions\n",
    "    mentions_xbox = any(kw in combined_text for kw in [\"microsoft\"])\n",
    "    mentions_nintendo = any(kw in combined_text for kw in [\"nintendo\"])\n",
    "    mentions_sony = any(kw in combined_text for kw in [\"sony\"])\n",
    "    mentions_controller = any(kw in combined_text for kw in [\"controller\"])\n",
    "    mentions_halo = any(kw in combined_text for kw in [\"halo\"])\n",
    "\n",
    "    data.append({\n",
    "        \"year\": year,\n",
    "        \"month\": month,\n",
    "        \"rating\": rating,\n",
    "        \"sentiment\": sentiment,\n",
    "        \"asin\": asin,\n",
    "        \"mentions_xbox\": mentions_xbox,\n",
    "        \"mentions_nintendo\": mentions_nintendo,\n",
    "        \"mentions_sony\": mentions_sony,\n",
    "        \"mentions_controller\": mentions_controller,\n",
    "        \"mentions_halo\": mentions_halo,\n",
    "    })\n",
    "\n",
    "# Convert to DataFrame\n",
    "extra_df = pd.DataFrame(data)\n"
   ]
  },
  {
   "cell_type": "code",
   "execution_count": null,
   "metadata": {},
   "outputs": [],
   "source": [
    "extra_df.head()"
   ]
  },
  {
   "cell_type": "code",
   "execution_count": null,
   "metadata": {},
   "outputs": [],
   "source": [
    "# 🧱 year と month から date 列を作成\n",
    "extra_df[\"date\"] = pd.to_datetime(extra_df[[\"year\", \"month\"]].assign(day=1))\n",
    "\n",
    "# 🗓️ 年月に変換\n",
    "extra_df[\"year_month\"] = extra_df[\"date\"].dt.to_period(\"M\")\n",
    "\n",
    "# 📊 月別でメンション数を集計（True = 1, False = 0 としてカウントされる）\n",
    "mentions_by_month = extra_df.groupby(\"year_month\")[[\"mentions_xbox\", \"mentions_nintendo\", \"mentions_sony\"]].sum()\n",
    "\n",
    "\n",
    "# 📈 折れ線グラフを描画\n",
    "plt.figure(figsize=(12, 6))\n",
    "plt.plot(mentions_by_month.index.astype(str), mentions_by_month[\"mentions_xbox\"], label=\"Xbox\", color=\"green\")\n",
    "plt.plot(mentions_by_month.index.astype(str), mentions_by_month[\"mentions_nintendo\"], label=\"Nintendo\", color=\"red\")\n",
    "plt.plot(mentions_by_month.index.astype(str), mentions_by_month[\"mentions_sony\"], label=\"Sony\", color=\"blue\")\n",
    "\n",
    "plt.title(\"Brand Mentions by Month\")\n",
    "plt.xlabel(\"Month\")\n",
    "plt.ylabel(\"Number of Mentions\")\n",
    "plt.grid(True)\n",
    "plt.legend()\n",
    "\n",
    "# 🔍 X軸ラベルを間引いて見やすく\n",
    "plt.xticks(\n",
    "    ticks=range(0, len(mentions_by_month.index), 6),  # 6ヶ月ごと\n",
    "    labels=mentions_by_month.index.astype(str)[::6],\n",
    "    rotation=45\n",
    ")\n",
    "\n",
    "plt.tight_layout()\n",
    "plt.show()\n"
   ]
  },
  {
   "cell_type": "markdown",
   "metadata": {},
   "source": [
    "### Controller Reviews"
   ]
  },
  {
   "cell_type": "code",
   "execution_count": null,
   "metadata": {},
   "outputs": [],
   "source": [
    "# 📅 year と month から date 列を作成\n",
    "extra_df[\"date\"] = pd.to_datetime(extra_df[[\"year\", \"month\"]].assign(day=1))\n",
    "\n",
    "# 🧼 年月 Period に変換\n",
    "extra_df[\"year_month\"] = extra_df[\"date\"].dt.to_period(\"M\")\n",
    "\n",
    "# 🎮 コントローラーに言及したレビューのみ抽出\n",
    "controller_df = extra_df[extra_df[\"mentions_controller\"] == True]\n",
    "\n",
    "# 📊 月 × sentiment ごとのレビュー件数をカウント\n",
    "sentiment_counts = controller_df.groupby([\"year_month\", \"sentiment\"]).size().unstack(fill_value=0)\n",
    "\n",
    "# 📈 折れ線グラフ描画\n",
    "plt.figure(figsize=(12, 6))\n",
    "\n",
    "for sentiment in sentiment_counts.columns:\n",
    "    plt.plot(\n",
    "        sentiment_counts.index.astype(str),\n",
    "        sentiment_counts[sentiment],\n",
    "        label=sentiment.capitalize()\n",
    "    )\n",
    "\n",
    "plt.title(\"Monthly Review Count by Sentiment (Controller Mentions Only)\")\n",
    "plt.xlabel(\"Year\")\n",
    "plt.ylabel(\"Number of Reviews\")\n",
    "plt.grid(True)\n",
    "plt.legend(title=\"Sentiment\")\n",
    "\n",
    "# 🎯 毎年1月だけラベル表示\n",
    "year_ticks = [i for i, p in enumerate(sentiment_counts.index) if p.month == 1]\n",
    "year_labels = [str(p.year) for p in sentiment_counts.index if p.month == 1]\n",
    "plt.xticks(ticks=year_ticks, labels=year_labels, rotation=0)\n",
    "\n",
    "plt.tight_layout()\n",
    "plt.show()\n"
   ]
  },
  {
   "cell_type": "code",
   "execution_count": null,
   "metadata": {},
   "outputs": [],
   "source": [
    "# 📅 year と month から date 列を作成\n",
    "extra_df[\"date\"] = pd.to_datetime(extra_df[[\"year\", \"month\"]].assign(day=1))\n",
    "\n",
    "# 🧼 年月 Period に変換\n",
    "extra_df[\"year_month\"] = extra_df[\"date\"].dt.to_period(\"M\")\n",
    "\n",
    "# 🎮 コントローラーに言及したレビューのみ抽出\n",
    "controller_df = extra_df[extra_df[\"mentions_controller\"] == True]\n",
    "\n",
    "# 📊 月 × sentiment ごとのレビュー件数をカウント\n",
    "ratings_count = controller_df.groupby([\"year_month\", \"rating\"]).size().unstack(fill_value=0)\n",
    "\n",
    "# 📈 折れ線グラフ描画\n",
    "plt.figure(figsize=(12, 6))\n",
    "\n",
    "for rating in ratings_count.columns:\n",
    "    plt.plot(\n",
    "        ratings_count.index.astype(str),\n",
    "        ratings_count[rating],\n",
    "        label=rating\n",
    "    )\n",
    "\n",
    "plt.title(\"Monthly Review Count by Rating (Halo Mentions Only)\")\n",
    "plt.xlabel(\"Year\")\n",
    "plt.ylabel(\"Number of Reviews\")\n",
    "plt.grid(True)\n",
    "plt.legend(title=\"Sentiment\")\n",
    "\n",
    "# 🎯 毎年1月だけラベル表示\n",
    "year_ticks = [i for i, p in enumerate(ratings_count.index) if p.month == 1]\n",
    "year_labels = [str(p.year) for p in ratings_count.index if p.month == 1]\n",
    "plt.xticks(ticks=year_ticks, labels=year_labels, rotation=0)\n",
    "\n",
    "plt.tight_layout()\n",
    "plt.show()\n"
   ]
  }
 ],
 "metadata": {
  "kernelspec": {
   "display_name": "venv",
   "language": "python",
   "name": "python3"
  },
  "language_info": {
   "codemirror_mode": {
    "name": "ipython",
    "version": 3
   },
   "file_extension": ".py",
   "mimetype": "text/x-python",
   "name": "python",
   "nbconvert_exporter": "python",
   "pygments_lexer": "ipython3",
   "version": "3.11.5"
  }
 },
 "nbformat": 4,
 "nbformat_minor": 2
}
