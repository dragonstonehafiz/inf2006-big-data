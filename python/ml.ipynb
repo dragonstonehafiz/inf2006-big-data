{
 "cells": [
  {
   "cell_type": "markdown",
   "metadata": {},
   "source": [
    "# Work Done by: [Nicholas Tan Qin Sheng] and [Muhammad Hafiz Bin Abdul Halim]"
   ]
  },
  {
   "cell_type": "code",
   "execution_count": 2,
   "metadata": {},
   "outputs": [],
   "source": [
    "import pandas as pd\n",
    "from sklearn.feature_extraction.text import TfidfVectorizer\n",
    "from sklearn.metrics.pairwise import cosine_similarity\n",
    "from sklearn.model_selection import train_test_split\n",
    "import nltk\n",
    "from nltk.corpus import stopwords\n",
    "from nltk.stem import WordNetLemmatizer\n",
    "import re"
   ]
  },
  {
   "cell_type": "code",
   "execution_count": 13,
   "metadata": {},
   "outputs": [],
   "source": [
    "def load_and_prepare_data(filepath, sample_size=None):\n",
    "    \"\"\"Loads JSONL data, preprocesses review text, and adds a sample size for testing.\"\"\"\n",
    "    df = pd.read_json(filepath, lines=True)\n",
    "\n",
    "    if sample_size:\n",
    "        df = df.sample(sample_size, random_state=42)  # For reproducibility\n",
    "\n",
    "    df = df[['asin', 'text', 'rating']]  # Select relevant columns\n",
    "    df.rename(columns={'text': 'review_text'}, inplace=True)  # Rename columns\n",
    "    df.dropna(subset=['review_text'], inplace=True)  # Drop rows with NaN review text\n",
    "    df.drop_duplicates(subset=['asin', 'review_text'], inplace=True)  # 🧹 Drop duplicate reviews for same ASIN\n",
    "\n",
    "    return df"
   ]
  },
  {
   "cell_type": "code",
   "execution_count": 4,
   "metadata": {},
   "outputs": [],
   "source": [
    "# 2. Preprocess Review Text\n",
    "def preprocess_text(text):\n",
    "    \"\"\"Cleans and lemmatizes the review text.\"\"\"\n",
    "    text = re.sub(r'[^\\w\\s]', '', text, re.UNICODE) # Remove punctuation\n",
    "    text = text.lower() # Lowercase\n",
    "    stop_words = set(stopwords.words('english')) # Stop words\n",
    "    text = [w for w in text.split() if not w in stop_words]\n",
    "    lemmatizer = WordNetLemmatizer() # Lemmatize\n",
    "    text = [lemmatizer.lemmatize(token) for token in text]\n",
    "    text = \" \".join(text)\n",
    "    return text"
   ]
  },
  {
   "cell_type": "code",
   "execution_count": 5,
   "metadata": {},
   "outputs": [],
   "source": [
    "# 3. Feature Engineering\n",
    "def feature_engineering(df):\n",
    "    \"\"\"Creates TF-IDF vectors from review text and adds a simple sentiment score.\"\"\"\n",
    "    df['cleaned_review_text'] = df['review_text'].apply(preprocess_text) # Clean text\n",
    "\n",
    "    vectorizer = TfidfVectorizer(max_features=5000)  # Limit vocabulary size\n",
    "    tfidf_matrix = vectorizer.fit_transform(df['cleaned_review_text'])\n",
    "    tfidf_df = pd.DataFrame(tfidf_matrix.toarray(), index=df.index)  # TF-IDF to DataFrame\n",
    "\n",
    "    df['sentiment'] = df['rating'].apply(lambda x: 1 if x > 3 else (-1 if x < 3 else 0))  # Simplified sentiment\n",
    "    return df, tfidf_df"
   ]
  },
  {
   "cell_type": "code",
   "execution_count": null,
   "metadata": {},
   "outputs": [],
   "source": [
    "# 4. Build Content-Based Recommendation System\n",
    "def create_recommendation_system(df, tfidf_df):\n",
    "    \"\"\"Calculates cosine similarity and recommends products based on content.\"\"\"\n",
    "    cosine_sim = cosine_similarity(tfidf_df, tfidf_df)\n",
    "    return cosine_sim\n",
    "\n",
    "def recommend_products(asin, df, cosine_sim, top_n=5):\n",
    "    \"\"\"Recommends similar products based on a given ASIN.\"\"\"\n",
    "    try:\n",
    "        idx = df[df['asin'] == asin].index[0] # Get index of product\n",
    "    except IndexError:\n",
    "        return f\"Product '{asin}' not found.\"\n",
    "    sim_scores = list(enumerate(cosine_sim[idx])) # Similarity scores\n",
    "    sim_scores = sorted(sim_scores, key=lambda x: x[1], reverse=True) # Sort\n",
    "    sim_scores = sim_scores[1:top_n+1] # Get top N similar\n",
    "    product_indices = [i[0] for i in sim_scores[1:]]\n",
    "    seen = set()\n",
    "    recommended_asins = []\n",
    "    for idx in product_indices:\n",
    "        asin = df['asin'].iloc[idx]\n",
    "        if asin not in seen:\n",
    "            recommended_asins.append(asin)\n",
    "            seen.add(asin)\n",
    "        if len(recommended_asins) >= top_n:\n",
    "            break\n",
    "    return recommended_asins\n"
   ]
  },
  {
   "cell_type": "code",
   "execution_count": 7,
   "metadata": {},
   "outputs": [],
   "source": [
    "# 5. Evaluate the Recommendation System (Simplified)\n",
    "def evaluate_recommendation_system(df, cosine_sim, test_size=0.2):\n",
    "  \"\"\"Splits data, makes recommendations, and evaluates using basic metrics.\"\"\"\n",
    "  train_df, test_df = train_test_split(df, test_size=test_size, random_state=42)\n",
    "\n",
    "  def get_relevant_asins(asin, df, train_df, cosine_sim, top_n=5):\n",
    "    \"\"\"Gets a list of relevant ASINs for a given ASIN.\"\"\"\n",
    "    try:\n",
    "        idx = df[df['asin'] == asin].index[0]\n",
    "    except IndexError:\n",
    "        return []\n",
    "    \n",
    "    sim_scores = list(enumerate(cosine_sim[idx]))\n",
    "    sim_scores = sorted(sim_scores, key=lambda x: x[1], reverse=True)\n",
    "\n",
    "    # Filter similar products to only those in the training set\n",
    "    recommended_asins = []\n",
    "    for i, _ in sim_scores[1:]:\n",
    "        asin_i = df['asin'].iloc[i]\n",
    "        if asin_i in train_df['asin'].values:\n",
    "            recommended_asins.append(asin_i)\n",
    "        if len(recommended_asins) >= top_n:\n",
    "            break\n",
    "\n",
    "    return recommended_asins\n",
    "\n",
    "  recommendations = {}\n",
    "  # Make recommendations for test set\n",
    "  for asin in test_df['asin']:\n",
    "    recommendations[asin] = get_relevant_asins(asin, df, train_df, cosine_sim)\n",
    "\n",
    "  # Evaluate using simple metrics\n",
    "  precision_list = []\n",
    "  recall_list = []\n",
    "\n",
    "  for asin, recommended_asins in recommendations.items():\n",
    "    # Try to find the rating in train_df\n",
    "    try:\n",
    "        test_index = test_df[test_df['asin'] == asin].index[0]\n",
    "        rating_value = test_df['rating'].iloc[test_index]\n",
    "    except IndexError:\n",
    "        rating_value = 0\n",
    "    # Look if similar products in recommendations can also be found on rating\n",
    "    asin_with_rating = train_df[train_df['rating'] == rating_value]['asin'].tolist()\n",
    "\n",
    "    relevant_count = len(set(recommended_asins) & set(asin_with_rating)) # Find with recommendation and rating\n",
    "    if len(recommended_asins) > 0:\n",
    "        precision_list.append(relevant_count / len(recommended_asins))\n",
    "    else:\n",
    "        precision_list.append(0.0)  # Avoid division by zero\n",
    "\n",
    "    if len(asin_with_rating) > 0:\n",
    "        recall_list.append(relevant_count / len(asin_with_rating))\n",
    "    else:\n",
    "        recall_list.append(0.0)  # Avoid division by zero\n",
    "\n",
    "  # Handle empty lists\n",
    "  precision = sum(precision_list) / len(precision_list) if precision_list else 0.0\n",
    "  recall = sum(recall_list) / len(recall_list) if recall_list else 0.0\n",
    "\n",
    "  print(f\"Precision: {precision:.4f}\")\n",
    "  print(f\"Recall: {recall:.4f}\")"
   ]
  },
  {
   "cell_type": "code",
   "execution_count": 14,
   "metadata": {},
   "outputs": [],
   "source": [
    "filepath = 'data/Video_Games_with_sentiment.jsonl'  # Replace with your actual file path\n",
    "sample_size = 20000  # Adjust for testing (remove for full dataset)\n",
    "\n",
    "# Load, prepare, and engineer features\n",
    "df = load_and_prepare_data(filepath, sample_size)\n",
    "df.reset_index(drop=True, inplace=True)"
   ]
  },
  {
   "cell_type": "code",
   "execution_count": 15,
   "metadata": {},
   "outputs": [],
   "source": [
    "df, tfidf_df = feature_engineering(df)"
   ]
  },
  {
   "cell_type": "code",
   "execution_count": 16,
   "metadata": {},
   "outputs": [
    {
     "name": "stdout",
     "output_type": "stream",
     "text": [
      "Precision: 0.1161\n",
      "Recall: 0.0001\n",
      "Recommended products for B01N3ASPNV: ['B07GVJVGRH', 'B07GVJVGRH', 'B073ZNVN2G', 'B07TCPVHTM', 'B01N3ASPNV']\n"
     ]
    }
   ],
   "source": [
    "# Create and evaluate the recommendation system\n",
    "cosine_sim = create_recommendation_system(df, tfidf_df)\n",
    "evaluate_recommendation_system(df, cosine_sim)\n",
    "\n",
    "# Make recommendations for a specific product\n",
    "asin_to_recommend = 'B01N3ASPNV'  # Example ASIN (replace with a real one)\n",
    "recommendations = recommend_products(asin_to_recommend, df, cosine_sim)\n",
    "\n",
    "if isinstance(recommendations, str):  # Error message\n",
    "    print(recommendations)\n",
    "else:\n",
    "    print(f\"Recommended products for {asin_to_recommend}: {recommendations}\")"
   ]
  },
  {
   "cell_type": "code",
   "execution_count": 17,
   "metadata": {},
   "outputs": [],
   "source": [
    "import pandas as pd\n",
    "\n",
    "def get_titles_from_asins(asins, metadata_filepath):\n",
    "    \"\"\"Given a list of ASINs, returns a list of corresponding product titles from the metadata file.\"\"\"\n",
    "    meta_df = pd.read_json(metadata_filepath, lines=True)\n",
    "    matched_df = meta_df[meta_df['parent_asin'].isin(asins)]\n",
    "    \n",
    "    # Handle missing titles (if any ASINs aren't found)\n",
    "    asin_to_title = {row['parent_asin']: row['title'] for _, row in matched_df.iterrows()}\n",
    "    titles = [asin_to_title.get(asin, f\"(Title not found for ASIN: {asin})\") for asin in asins]\n",
    "    return titles"
   ]
  },
  {
   "cell_type": "code",
   "execution_count": 18,
   "metadata": {},
   "outputs": [
    {
     "name": "stdout",
     "output_type": "stream",
     "text": [
      "EMISH Mobile Game Controller for PUBG/Fornite/Knives Out/Rules of Survival/Call of Duty Gamepad Trigger Aim Button L1R1 L2 R2 Shooter Joystick for iPhone Android iPad Mini 5 Phone Game Pad Accesorios, B07GVJVGRH\n",
      "EMISH Mobile Game Controller for PUBG/Fornite/Knives Out/Rules of Survival/Call of Duty Gamepad Trigger Aim Button L1R1 L2 R2 Shooter Joystick for iPhone Android iPad Mini 5 Phone Game Pad Accesorios, B07GVJVGRH\n",
      "Amazon Basics Play and Charge Kit with Braided Cable for Xbox One, Xbox One S, and Xbox One X - Black, B073ZNVN2G\n",
      "amFilm Tempered Screen Protector for Nintendo Switch Lite 2019, Glass, 3 Pack, B07TCPVHTM\n",
      "amFilm Tempered Glass Screen Protector for Nintendo Switch 2017 (2-Pack), B01N3ASPNV\n"
     ]
    }
   ],
   "source": [
    "titles = get_titles_from_asins(recommendations, 'data/meta_Video_Games.jsonl')\n",
    "\n",
    "for asin, title in zip(recommendations, titles):\n",
    "    print(f\"{title}, {asin}\")"
   ]
  }
 ],
 "metadata": {
  "kernelspec": {
   "display_name": "venv",
   "language": "python",
   "name": "python3"
  },
  "language_info": {
   "codemirror_mode": {
    "name": "ipython",
    "version": 3
   },
   "file_extension": ".py",
   "mimetype": "text/x-python",
   "name": "python",
   "nbconvert_exporter": "python",
   "pygments_lexer": "ipython3",
   "version": "3.11.5"
  }
 },
 "nbformat": 4,
 "nbformat_minor": 2
}
