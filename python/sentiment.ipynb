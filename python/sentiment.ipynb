{
 "cells": [
  {
   "cell_type": "markdown",
   "metadata": {},
   "source": [
    " * Code done by Muhammad Azreen Bin Muhammad & Muhammd Hafiz Bin Abdul Halim"
   ]
  },
  {
   "cell_type": "code",
   "execution_count": 1,
   "metadata": {},
   "outputs": [
    {
     "name": "stderr",
     "output_type": "stream",
     "text": [
      "[nltk_data] Downloading package vader_lexicon to\n",
      "[nltk_data]     C:\\Users\\HexMa\\AppData\\Roaming\\nltk_data...\n",
      "[nltk_data]   Package vader_lexicon is already up-to-date!\n"
     ]
    },
    {
     "data": {
      "text/plain": [
       "True"
      ]
     },
     "execution_count": 1,
     "metadata": {},
     "output_type": "execute_result"
    }
   ],
   "source": [
    "import nltk\n",
    "import json\n",
    "nltk.download('vader_lexicon')"
   ]
  },
  {
   "cell_type": "code",
   "execution_count": 2,
   "metadata": {},
   "outputs": [],
   "source": [
    "from nltk.sentiment.vader import SentimentIntensityAnalyzer\n",
    "sia = SentimentIntensityAnalyzer()\n",
    "\n",
    "def get_sentiment(text):\n",
    "    score = sia.polarity_scores(text)['compound']\n",
    "    if score >= 0.05:\n",
    "        return \"Positive\"\n",
    "    elif score <= -0.05:\n",
    "        return \"Negative\"\n",
    "    else:\n",
    "        return \"Neutral\""
   ]
  },
  {
   "cell_type": "code",
   "execution_count": 4,
   "metadata": {},
   "outputs": [],
   "source": [
    "input_filename = \"data\\Video_Games.jsonl\"\n",
    "filename, ext = input_filename.split(\".\")\n",
    "\n",
    "jsonl_file = open(input_filename)\n",
    "output_jsonl_file = open(f\"{filename}_with_sentiment.jsonl\", \"w\")"
   ]
  },
  {
   "cell_type": "code",
   "execution_count": 5,
   "metadata": {},
   "outputs": [
    {
     "name": "stderr",
     "output_type": "stream",
     "text": [
      "100%|██████████| 4624615/4624615 [23:08<00:00, 3329.97it/s] \n"
     ]
    }
   ],
   "source": [
    "from tqdm import tqdm\n",
    "\n",
    "lines = jsonl_file.readlines()\n",
    "\n",
    "for line in tqdm(lines):\n",
    "    line = line.strip()  # removes the newline\n",
    "    data = json.loads(line)\n",
    "    \n",
    "    sentiment = get_sentiment(data[\"text\"])  # your custom function\n",
    "    data[\"sentiment\"] = sentiment\n",
    "    \n",
    "    output_jsonl_file.write(json.dumps(data) + \"\\n\")"
   ]
  },
  {
   "cell_type": "code",
   "execution_count": 6,
   "metadata": {},
   "outputs": [
    {
     "name": "stdout",
     "output_type": "stream",
     "text": [
      "   rating                                              title  \\\n",
      "0       4                     It’s pretty sexual. Not my fav   \n",
      "1       5                                   Good. A bit slow   \n",
      "2       5  ... an order for my kids & they have really en...   \n",
      "3       5                        Great alt to pro controller   \n",
      "4       5                                      solid product   \n",
      "\n",
      "                                                text images        asin  \\\n",
      "0  I’m playing on ps5 and it’s interesting.  It’s...     []  B07DJWBYKP   \n",
      "1  Nostalgic fun.  A bit slow.  I hope they don’t...     []  B00ZS80PC2   \n",
      "2  This was an order for my kids & they have real...     []  B01FEHJYUU   \n",
      "3  These work great, They use batteries which is ...     []  B07GXJHRVK   \n",
      "4  I would recommend to anyone looking to add jus...     []  B00HUWA45W   \n",
      "\n",
      "  parent_asin                       user_id               timestamp  \\\n",
      "0  B07DK1H3H5  AGCI7FAH4GL5FI65HYLKWTMFZ2CQ 2020-12-17 06:33:24.795   \n",
      "1  B07SRWRH5D  AGCI7FAH4GL5FI65HYLKWTMFZ2CQ 2020-04-16 15:31:54.941   \n",
      "2  B07MFMFW34  AGXVBIUFLFGMVLATYXHJYL4A5Q7Q 2017-03-30 12:37:11.000   \n",
      "3  B0BCHWZX95  AFTC6ZR5IKNRDG5JCPVNVMU3XV2Q 2019-12-29 16:40:34.017   \n",
      "4  B00HUWA45W  AFTC6ZR5IKNRDG5JCPVNVMU3XV2Q 2015-03-29 01:18:52.000   \n",
      "\n",
      "   helpful_vote  verified_purchase  \n",
      "0             0               True  \n",
      "1             1              False  \n",
      "2             0               True  \n",
      "3             0               True  \n",
      "4             0               True  \n"
     ]
    },
    {
     "data": {
      "text/plain": [
       "38.80711317062378"
      ]
     },
     "execution_count": 6,
     "metadata": {},
     "output_type": "execute_result"
    }
   ],
   "source": [
    "import pandas as pd\n",
    "import time\n",
    "\n",
    "startTime = time.time()\n",
    "# Read a JSONL file into a DataFrame\n",
    "df = pd.read_json(input_filename, lines=True)\n",
    "endTime = time.time()\n",
    "\n",
    "# Show the DataFrame\n",
    "print(df.head())\n",
    "endTime - startTime"
   ]
  }
 ],
 "metadata": {
  "kernelspec": {
   "display_name": "venv",
   "language": "python",
   "name": "python3"
  },
  "language_info": {
   "codemirror_mode": {
    "name": "ipython",
    "version": 3
   },
   "file_extension": ".py",
   "mimetype": "text/x-python",
   "name": "python",
   "nbconvert_exporter": "python",
   "pygments_lexer": "ipython3",
   "version": "3.11.5"
  }
 },
 "nbformat": 4,
 "nbformat_minor": 2
}
