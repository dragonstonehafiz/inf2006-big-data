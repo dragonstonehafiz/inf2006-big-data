{
 "cells": [
  {
   "cell_type": "code",
   "execution_count": 2,
   "metadata": {},
   "outputs": [
    {
     "name": "stderr",
     "output_type": "stream",
     "text": [
      "[nltk_data] Downloading package vader_lexicon to\n",
      "[nltk_data]     C:\\Users\\HexMa\\AppData\\Roaming\\nltk_data...\n",
      "[nltk_data]   Package vader_lexicon is already up-to-date!\n"
     ]
    },
    {
     "data": {
      "text/plain": [
       "True"
      ]
     },
     "execution_count": 2,
     "metadata": {},
     "output_type": "execute_result"
    }
   ],
   "source": [
    "import nltk\n",
    "import json\n",
    "nltk.download('vader_lexicon')"
   ]
  },
  {
   "cell_type": "code",
   "execution_count": 3,
   "metadata": {},
   "outputs": [],
   "source": [
    "from nltk.sentiment.vader import SentimentIntensityAnalyzer\n",
    "sia = SentimentIntensityAnalyzer()\n",
    "\n",
    "def get_sentiment(text):\n",
    "    score = sia.polarity_scores(text)['compound']\n",
    "    if score >= 0.05:\n",
    "        return \"Positive\"\n",
    "    elif score <= -0.05:\n",
    "        return \"Negative\"\n",
    "    else:\n",
    "        return \"Neutral\""
   ]
  },
  {
   "cell_type": "code",
   "execution_count": 5,
   "metadata": {},
   "outputs": [],
   "source": [
    "input_filename = \"Health_and_Household.jsonl\"\n",
    "filename, ext = input_filename.split(\".\")\n",
    "\n",
    "jsonl_file = open(input_filename)\n",
    "output_jsonl_file = open(f\"{filename}_with_sentiment.jsonl\", \"w\")"
   ]
  },
  {
   "cell_type": "code",
   "execution_count": null,
   "metadata": {},
   "outputs": [
    {
     "name": "stderr",
     "output_type": "stream",
     "text": [
      "100%|██████████| 25631345/25631345 [1:26:07<00:00, 4959.89it/s]  \n"
     ]
    }
   ],
   "source": [
    "from tqdm import tqdm\n",
    "\n",
    "lines = jsonl_file.readlines()\n",
    "\n",
    "for line in tqdm(lines):\n",
    "    line = line.strip()  # removes the newline\n",
    "    data = json.loads(line)\n",
    "    \n",
    "    sentiment = get_sentiment(data[\"text\"])  # your custom function\n",
    "    data[\"sentiment\"] = sentiment\n",
    "    \n",
    "    output_jsonl_file.write(json.dumps(data) + \"\\n\")"
   ]
  },
  {
   "cell_type": "code",
   "execution_count": 13,
   "metadata": {},
   "outputs": [
    {
     "name": "stdout",
     "output_type": "stream",
     "text": [
      "   rating                                              title  \\\n",
      "0       4  Just not for my purposes which is watercolor p...   \n",
      "1       5                           Yarn storage. Excellent.   \n",
      "2       5                                      Smells great!   \n",
      "3       5                                         Excellent!   \n",
      "4       1                                              Yuck!   \n",
      "\n",
      "                                                text  \\\n",
      "0  I wanted to love this bc it’s supposed to be g...   \n",
      "1  I use these to store yarn projects.  I’m very ...   \n",
      "2                                      Smells great!   \n",
      "3  Where has this been all my life?  Makes wrappi...   \n",
      "4  Amazon was out of my regular brand of Charmin ...   \n",
      "\n",
      "                                              images        asin parent_asin  \\\n",
      "0  [{'small_image_url': 'https://m.media-amazon.c...  B09V1CYXWC  B09RWQ64WD   \n",
      "1                                                 []  B00555EWJU  B0C85LM3CK   \n",
      "2                                                 []  B01MT5XV33  B01MT5XV33   \n",
      "3                                                 []  B0014D5NVS  B0CBQN1MCY   \n",
      "4  [{'small_image_url': 'https://images-na.ssl-im...  B07C9JYF2W  B0CBWPKH5K   \n",
      "\n",
      "                        user_id               timestamp  helpful_vote  \\\n",
      "0  AFKZENTNBQ7A7V7UXW5JJI6UGRYQ 2022-10-21 21:16:29.060             0   \n",
      "1  AFKZENTNBQ7A7V7UXW5JJI6UGRYQ 2020-05-20 00:19:14.431             0   \n",
      "2  AFKZENTNBQ7A7V7UXW5JJI6UGRYQ 2020-02-09 02:36:22.965             0   \n",
      "3  AFKZENTNBQ7A7V7UXW5JJI6UGRYQ 2020-02-06 00:43:27.541             0   \n",
      "4  AFKZENTNBQ7A7V7UXW5JJI6UGRYQ 2019-06-26 03:26:44.596             3   \n",
      "\n",
      "   verified_purchase  \n",
      "0               True  \n",
      "1               True  \n",
      "2               True  \n",
      "3               True  \n",
      "4               True  \n"
     ]
    },
    {
     "data": {
      "text/plain": [
       "223.42218923568726"
      ]
     },
     "execution_count": 13,
     "metadata": {},
     "output_type": "execute_result"
    }
   ],
   "source": [
    "import pandas as pd\n",
    "import time\n",
    "\n",
    "startTime = time.time()\n",
    "# Read a JSONL file into a DataFrame\n",
    "df = pd.read_json(\"Health_and_Household.jsonl\", lines=True)\n",
    "endTime = time.time()\n",
    "\n",
    "# Show the DataFrame\n",
    "print(df.head())\n",
    "endTime - startTime"
   ]
  }
 ],
 "metadata": {
  "kernelspec": {
   "display_name": "venv",
   "language": "python",
   "name": "python3"
  },
  "language_info": {
   "codemirror_mode": {
    "name": "ipython",
    "version": 3
   },
   "file_extension": ".py",
   "mimetype": "text/x-python",
   "name": "python",
   "nbconvert_exporter": "python",
   "pygments_lexer": "ipython3",
   "version": "3.11.5"
  }
 },
 "nbformat": 4,
 "nbformat_minor": 2
}
